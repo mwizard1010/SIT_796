{
  "nbformat": 4,
  "nbformat_minor": 0,
  "metadata": {
    "colab": {
      "name": "7.1.ipynb",
      "provenance": [],
      "collapsed_sections": []
    },
    "kernelspec": {
      "name": "python376jvsc74a57bd0067529e8a57071919e6b8e6defe94b6cbeea1fd5fc96df197c4a301c7376cfd9",
      "display_name": "Python 3.7.6 64-bit ('base': conda)"
    },
    "language_info": {
      "codemirror_mode": {
        "name": "ipython",
        "version": 3
      },
      "file_extension": ".py",
      "mimetype": "text/x-python",
      "name": "python",
      "nbconvert_exporter": "python",
      "pygments_lexer": "ipython3",
      "version": "3.7.6"
    }
  },
  "cells": [
    {
      "cell_type": "code",
      "metadata": {
        "id": "qdCMIcnCKSLS"
      },
      "source": [
        "# install required system dependencies\n",
        "# !apt-get install -y xvfb x11-utils \n",
        "# !apt-get install x11-utils > /dev/null 2>&1\n",
        "# !pip install PyVirtualDisplay==2.0.* \\\n",
        "#   PyOpenGL==3.1.* \\\n",
        "#   PyOpenGL-accelerate==3.1.* \\\n",
        "#   gym[box2d]==0.17.* \n",
        "# !pip install pyglet"
      ],
      "execution_count": 215,
      "outputs": []
    },
    {
      "cell_type": "code",
      "metadata": {
        "colab": {
          "base_uri": "https://localhost:8080/"
        },
        "id": "xmLE49gSSLz7",
        "outputId": "ad5032ce-c0c1-47ac-b69d-7bbe9e61fa9b"
      },
      "source": [
        "from google.colab import drive\n",
        "import sys\n",
        "drive.mount('/content/drive')\n",
        "# drive.flush_and_unmount()\n",
        "sys.path.insert(0,'/content/drive/MyDrive/Colab Notebooks/Reinforcement')\n",
        "\n",
        "import world\n",
        "from world import World"
      ],
      "execution_count": 216,
      "outputs": [
        {
          "output_type": "stream",
          "text": [
            "Drive already mounted at /content/drive; to attempt to forcibly remount, call drive.mount(\"/content/drive\", force_remount=True).\n"
          ],
          "name": "stdout"
        }
      ]
    },
    {
      "cell_type": "code",
      "metadata": {
        "id": "SWZK6DCLHX1l"
      },
      "source": [
        "import gym\n",
        "import numpy as np\n",
        "import base64\n",
        "import io\n",
        "import IPython"
      ],
      "execution_count": 217,
      "outputs": []
    },
    {
      "cell_type": "code",
      "metadata": {
        "id": "telInc3fzYp7",
        "colab": {
          "base_uri": "https://localhost:8080/",
          "height": 282
        },
        "outputId": "68499870-d4ee-4b02-f389-8ee4dd6c2878"
      },
      "source": [
        "import random\n",
        "\n",
        "#Map information\n",
        "grid = [8, 5]\n",
        "dirt = [[0, 0, 0, 0, 10],\n",
        "        [0, 0, 0, 0, 0],\n",
        "        [0, 0, 0, 0, 0],\n",
        "        [0, 0, 0, 0, 0],\n",
        "        [0, 0, 0, 0, 0],\n",
        "        [0, 0, 0, 0, 0],\n",
        "        [0, 0, 0, 0, 0],\n",
        "        [0, 0, 0, 0, 0]]\n",
        "moves = 1000\n",
        "pos = [6, 0]\n",
        "terminal = [[0, 4]]\n",
        "\n",
        "# Random setting\n",
        "seed = 1  \n",
        "random.seed(seed)\n",
        "\n",
        "\n",
        "#Env load\n",
        "env = World(pos, moves, grid, dirt, terminal)\n",
        "obs = env.reset()\n",
        "env.render()"
      ],
      "execution_count": 218,
      "outputs": [
        {
          "output_type": "display_data",
          "data": {
            "image/png": "[encoded data removed]",
            "text/plain": [
              "<Figure size 432x288 with 1 Axes>"
            ]
          },
          "metadata": {
            "tags": [],
            "needs_background": "light"
          }
        },
        {
          "output_type": "display_data",
          "data": {
            "text/plain": [
              "<Figure size 432x288 with 0 Axes>"
            ]
          },
          "metadata": {
            "tags": []
          }
        }
      ]
    },
    {
      "cell_type": "code",
      "metadata": {
        "id": "W9fLSeGDrY6L"
      },
      "source": [
        "import operator\n",
        "def policy_action(model, si , sj, epsilon = 0.1): \n",
        "    if random.random() > epsilon:\n",
        "        Q = {}\n",
        "        actions = env._action_space()\n",
        "        for a in range(len(actions)):\n",
        "          value = model.predict(si, sj, a)\n",
        "          Q[a] = value\n",
        "        result = max(Q.items(), key=operator.itemgetter(1))\n",
        "        return result[0], result[1]\n",
        "    else:\n",
        "        return random.randrange(len(env._action_space())), 0"
      ],
      "execution_count": 219,
      "outputs": []
    },
    {
      "cell_type": "code",
      "metadata": {
        "id": "OHOewcakDQ5C"
      },
      "source": [
        "class Function:\n",
        "  def __init__(self, env):\n",
        "    self._w = np.zeros((env.grid_size[0], env.grid_size[1], len(env._action_space())))\n",
        "    self._z = np.zeros((env.grid_size[0], env.grid_size[1], len(env._action_space())))\n",
        "\n",
        "  def predict(self, si, sj, a):\n",
        "    return self._w[si][sj][a]\n",
        "\n",
        "  def grad(self, si, sj, a):\n",
        "    # grad_v_hat = np.zeros_like(self._z)\n",
        "    # grad_v_hat[state] = 1\n",
        "    return 1"
      ],
      "execution_count": 220,
      "outputs": []
    },
    {
      "cell_type": "code",
      "metadata": {
        "id": "gq9IV5nhzYp9",
        "tags": []
      },
      "source": [
        "def semi_gradient_sarsa(env, func, alpha=0.3, gamma=1.0):\n",
        "    rewards = []\n",
        "    for i_episode in range(20000):\n",
        "        cumu_reward = 0\n",
        "        if i_episode % 1000 == 0:\n",
        "          print(\"episode:\", i_episode)\n",
        "\n",
        "        #Initial state and action of episode\n",
        "\n",
        "        actions = env._action_space()\n",
        "        env.reset()\n",
        "        Si, Sj = env.position\n",
        "        A, _ = policy_action(func, Si, Sj)\n",
        "   \n",
        "        # Loop for each step of the episode until 𝑆 = Terminal :\n",
        "        while True:\n",
        "            old_w = model._w.copy()\n",
        "\n",
        "            #Take action 𝐴, observe 𝑅, new S'\n",
        "            _, R, done, _ = env.step(actions[A])\n",
        "            cumu_reward += R\n",
        "\n",
        "\n",
        "            # if 𝑆 = Terminal\n",
        "            if done:\n",
        "                target = R\n",
        "                delta = target - func.predict(Si, Sj, A)\n",
        "                func._w[Si][Sj][A] += alpha * delta * func.grad(Si, Sj, A)\n",
        "                break\n",
        "\n",
        "            # New S'\n",
        "            Si_, Sj_ = env.position\n",
        "            A_, _ = policy_action(func, Si_, Sj_)\n",
        "\n",
        "            target =  R + gamma * func.predict(Si_, Sj_, A_)\n",
        "            delta = target - func.predict(Si, Sj, A)\n",
        "            func._w[Si][Sj][A] += alpha * delta * func.grad(Si, Sj, A)\n",
        "            Si, Sj, A = Si_, Sj_, A_\n",
        "        \n",
        "        rewards.append(cumu_reward)\n",
        "    return rewards"
      ],
      "execution_count": 221,
      "outputs": []
    },
    {
      "cell_type": "code",
      "metadata": {
        "id": "F9Y40nJArY6O",
        "colab": {
          "base_uri": "https://localhost:8080/"
        },
        "outputId": "fac3514d-28a3-45e9-edaf-f8f798d54031"
      },
      "source": [
        "env.reset()\n",
        "func1 = Function(env)\n",
        "reward1 = semi_gradient_sarsa(env, func1)"
      ],
      "execution_count": 222,
      "outputs": [
        {
          "output_type": "stream",
          "text": [
            "episode: 0\n",
            "episode: 1000\n",
            "episode: 2000\n",
            "episode: 3000\n",
            "episode: 4000\n",
            "episode: 5000\n",
            "episode: 6000\n",
            "episode: 7000\n",
            "episode: 8000\n",
            "episode: 9000\n",
            "episode: 10000\n",
            "episode: 11000\n",
            "episode: 12000\n",
            "episode: 13000\n",
            "episode: 14000\n",
            "episode: 15000\n",
            "episode: 16000\n",
            "episode: 17000\n",
            "episode: 18000\n",
            "episode: 19000\n"
          ],
          "name": "stdout"
        }
      ]
    },
    {
      "cell_type": "code",
      "metadata": {
        "id": "5NXf3fA1-8EF"
      },
      "source": [
        "def opt_policy(env, policy):\n",
        "    policy_max = np.max(policy, axis=2)\n",
        "    # print(policy_max)\n",
        "    y = np.linspace(env.grid_size[0] - 1, 0, env.grid_size[0]) + 0.5\n",
        "    x = np.linspace(0, env.grid_size[1] - 1, env.grid_size[1]) + 0.5\n",
        "    X, Y = np.meshgrid(x, y)\n",
        "    zeros = np.zeros((env.grid_size))\n",
        "    \n",
        "    fig = plt.figure(figsize=(12,8))\n",
        "    ax = plt.axes()\n",
        "    \n",
        "    for i_action, action in enumerate(env._action_space()):\n",
        "        policy_star = np.zeros((env.grid_size[0], env.grid_size[1]))\n",
        "        for i in reversed(range(env.grid_size[0])):\n",
        "            for j in reversed(range(env.grid_size[1])):\n",
        "                if policy[i, j, i_action] == policy_max[i, j]:\n",
        "                # if policy[i, j, i_action] != 0:\n",
        "                    policy_star[i, j] = 0.4\n",
        "\n",
        "        #Plot results\n",
        "        if action == \"U\":\n",
        "            # Vectors point in positive Y-direction\n",
        "            plt.quiver(X, Y, zeros, policy_star, scale=1, units='xy')\n",
        "        elif action == \"L\":\n",
        "            # Vectors point in negative X-direction\n",
        "            plt.quiver(X, Y, -policy_star, zeros, scale=1, units='xy')\n",
        "        elif action == \"D\":\n",
        "            # Vectors point in negative Y-direction\n",
        "            plt.quiver(X, Y, zeros, -policy_star, scale=1, units='xy')\n",
        "        elif action == \"R\":\n",
        "            # Vectors point in positive X-direction\n",
        "            plt.quiver(X, Y, policy_star, zeros, scale=1, units='xy')\n",
        "        \n",
        "    plt.xlim([0, env.grid_size[1]])\n",
        "    plt.ylim([0, env.grid_size[0]])\n",
        "    ax.set_yticklabels([])\n",
        "    ax.set_xticklabels([])\n",
        "    plt.grid()\n",
        "    plt.show()"
      ],
      "execution_count": 223,
      "outputs": []
    },
    {
      "cell_type": "code",
      "metadata": {
        "colab": {
          "base_uri": "https://localhost:8080/",
          "height": 469
        },
        "id": "lm3-RFlp-_Ch",
        "outputId": "6616fb05-9115-477b-aa9b-1c2ec8ea5af7"
      },
      "source": [
        "import matplotlib.pyplot as plt\n",
        "opt_policy(env, func._w)"
      ],
      "execution_count": 224,
      "outputs": [
        {
          "output_type": "display_data",
          "data": {
            "image/png": "[encoded data removed]",
            "text/plain": [
              "<Figure size 864x576 with 1 Axes>"
            ]
          },
          "metadata": {
            "tags": [],
            "needs_background": "light"
          }
        }
      ]
    },
    {
      "cell_type": "code",
      "metadata": {
        "id": "60AtqW3RCeU1"
      },
      "source": [
        "def update_z(func, si, sj, action, method='accumulating', lmda = 1, gamma = 1):\n",
        "    # x(s) = s\n",
        "    func._z = func._z * lmda * gamma\n",
        "    if (method == 'replace'):\n",
        "        func._z[si][sj][action] = 1\n",
        "    elif method == 'accumulating':\n",
        "        func._z[si][sj][action] += 1\n",
        "    return "
      ],
      "execution_count": 225,
      "outputs": []
    },
    {
      "cell_type": "code",
      "metadata": {
        "id": "P4-4AdzD_Xqz"
      },
      "source": [
        "def sarsa_linear_function(env, func, alpha=0.3, gamma=1.0, lmda=0.2):\n",
        "    rewards = []\n",
        "    for i_episode in range(20000):\n",
        "        cumu_reward = 0\n",
        "        if i_episode % 1000 == 0:\n",
        "          print(\"episode:\", i_episode)\n",
        "\n",
        "        #Initial state and action of episode\n",
        "\n",
        "        actions = env._action_space()\n",
        "        env.reset()\n",
        "        Si, Sj = env.position\n",
        "        A, _ = policy_action(func, Si, Sj)\n",
        "\n",
        "        func._z = np.zeros_like(func._w)\n",
        "   \n",
        "        # Loop for each step of the episode until 𝑆 = Terminal :\n",
        "        while True:\n",
        "            old_w = model._w.copy()\n",
        "\n",
        "            #Take action 𝐴, observe 𝑅, new S'\n",
        "            _, R, done, _ = env.step(actions[A])\n",
        "            cumu_reward += R\n",
        "\n",
        "            delta = R\n",
        "            delta -=  func.predict(Si, Sj, A)\n",
        "\n",
        "            update_z(func, Si, Sj, A, gamma=gamma, lmda=lmda)\n",
        "\n",
        "            # if 𝑆 = Terminal\n",
        "            if done:\n",
        "                func._w[Si][Sj][A] += alpha * delta * func._z[Si][Sj][A]\n",
        "                break\n",
        "\n",
        "            # New S', new A'\n",
        "            Si_, Sj_ = env.position\n",
        "            A_, _ = policy_action(func, Si_, Sj_)\n",
        "\n",
        "            delta += gamma * func.predict(Si_, Sj_, A_)\n",
        "            func._w[Si][Sj][A] += alpha * delta * func._z[Si][Sj][A]\n",
        "            Si, Sj, A = Si_, Sj_, A_\n",
        "        rewards.append(cumu_reward)\n",
        "    return rewards"
      ],
      "execution_count": 226,
      "outputs": []
    },
    {
      "cell_type": "code",
      "metadata": {
        "colab": {
          "base_uri": "https://localhost:8080/"
        },
        "id": "3dOWFPw6GiqM",
        "outputId": "5966f4ef-3ea3-46d6-cd36-0742765c90ac"
      },
      "source": [
        "env.reset()\n",
        "func2 = Function(env)\n",
        "reward2 = sarsa_linear_function(env, func2)"
      ],
      "execution_count": 227,
      "outputs": [
        {
          "output_type": "stream",
          "text": [
            "episode: 0\n",
            "episode: 1000\n",
            "episode: 2000\n",
            "episode: 3000\n",
            "episode: 4000\n",
            "episode: 5000\n",
            "episode: 6000\n",
            "episode: 7000\n",
            "episode: 8000\n",
            "episode: 9000\n",
            "episode: 10000\n",
            "episode: 11000\n",
            "episode: 12000\n",
            "episode: 13000\n",
            "episode: 14000\n",
            "episode: 15000\n",
            "episode: 16000\n",
            "episode: 17000\n",
            "episode: 18000\n",
            "episode: 19000\n"
          ],
          "name": "stdout"
        }
      ]
    },
    {
      "cell_type": "code",
      "metadata": {
        "colab": {
          "base_uri": "https://localhost:8080/",
          "height": 469
        },
        "id": "11SQZZeAHFzP",
        "outputId": "5caf28b9-259d-407a-a414-f5038fb23886"
      },
      "source": [
        "import matplotlib.pyplot as plt\n",
        "opt_policy(env, func._w)"
      ],
      "execution_count": 228,
      "outputs": [
        {
          "output_type": "display_data",
          "data": {
            "image/png": "[encoded data removed]",
            "text/plain": [
              "<Figure size 864x576 with 1 Axes>"
            ]
          },
          "metadata": {
            "tags": [],
            "needs_background": "light"
          }
        }
      ]
    },
    {
      "cell_type": "code",
      "metadata": {
        "colab": {
          "base_uri": "https://localhost:8080/",
          "height": 295
        },
        "id": "tn8rQYKDJ75U",
        "outputId": "09802752-4a04-408f-ce59-db887e40bb32"
      },
      "source": [
        "import matplotlib.pyplot as plt\n",
        "plt.plot(reward1[:100], label = \"Semi Gradient Sarsa\")\n",
        "plt.plot(reward2[:100], label = \"Sarsa lamda\")\n",
        "plt.xlabel('episodes')\n",
        "plt.ylabel('rewards')\n",
        "plt.title('Compare Semi Gradient Sarsa & Sarsa lamda')\n",
        "\n",
        "plt.legend()\n",
        "\n",
        "plt.show()"
      ],
      "execution_count": 237,
      "outputs": [
        {
          "output_type": "display_data",
          "data": {
            "image/png": "[encoded data removed]",
            "text/plain": [
              "<Figure size 432x288 with 1 Axes>"
            ]
          },
          "metadata": {
            "tags": [],
            "needs_background": "light"
          }
        }
      ]
    },
    {
      "cell_type": "code",
      "metadata": {
        "colab": {
          "base_uri": "https://localhost:8080/"
        },
        "id": "wt3b-laCKfDr",
        "outputId": "b1e281de-678c-409e-9971-343e77511430"
      },
      "source": [
        "print('Semi: ', np.mean(reward1))\n",
        "print('Lambda: ', np.mean(reward2))"
      ],
      "execution_count": 234,
      "outputs": [
        {
          "output_type": "stream",
          "text": [
            "Semi:  9.95138595\n",
            "Lambda:  9.9651059\n"
          ],
          "name": "stdout"
        }
      ]
    }
  ]
}