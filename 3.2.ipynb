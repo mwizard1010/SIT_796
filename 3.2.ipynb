{
  "nbformat": 4,
  "nbformat_minor": 0,
  "metadata": {
    "colab": {
      "name": "3.2.ipynb",
      "provenance": [],
      "collapsed_sections": []
    },
    "kernelspec": {
      "name": "python3",
      "display_name": "Python 3",
      "language": "python"
    }
  },
  "cells": [
    {
      "cell_type": "code",
      "metadata": {
        "colab": {
          "base_uri": "https://localhost:8080/"
        },
        "id": "qdCMIcnCKSLS",
        "outputId": "7c374b16-67b9-41d8-b515-4abe15688b6e"
      },
      "source": [
        "# install required system dependencies\n",
        "# install required system dependencies\n",
        "!apt-get install -y xvfb x11-utils \n",
        "!apt-get install x11-utils > /dev/null 2>&1\n",
        "!pip install PyVirtualDisplay==2.0.* \\\n",
        "  PyOpenGL==3.1.* \\\n",
        "  PyOpenGL-accelerate==3.1.* \\\n",
        "  gym[box2d]==0.17.* \n",
        "!pip install pyglet"
      ],
      "execution_count": 1,
      "outputs": [
        {
          "output_type": "stream",
          "text": [
            "Reading package lists... Done\n",
            "Building dependency tree       \n",
            "Reading state information... Done\n",
            "The following additional packages will be installed:\n",
            "  libxxf86dga1\n",
            "Suggested packages:\n",
            "  mesa-utils\n",
            "The following NEW packages will be installed:\n",
            "  libxxf86dga1 x11-utils xvfb\n",
            "0 upgraded, 3 newly installed, 0 to remove and 30 not upgraded.\n",
            "Need to get 993 kB of archives.\n",
            "After this operation, 2,981 kB of additional disk space will be used.\n",
            "Get:1 http://archive.ubuntu.com/ubuntu bionic/main amd64 libxxf86dga1 amd64 2:1.1.4-1 [13.7 kB]\n",
            "Get:2 http://archive.ubuntu.com/ubuntu bionic/main amd64 x11-utils amd64 7.7+3build1 [196 kB]\n",
            "Get:3 http://archive.ubuntu.com/ubuntu bionic-updates/universe amd64 xvfb amd64 2:1.19.6-1ubuntu4.8 [784 kB]\n",
            "Fetched 993 kB in 1s (1,493 kB/s)\n",
            "Selecting previously unselected package libxxf86dga1:amd64.\n",
            "(Reading database ... 160980 files and directories currently installed.)\n",
            "Preparing to unpack .../libxxf86dga1_2%3a1.1.4-1_amd64.deb ...\n",
            "Unpacking libxxf86dga1:amd64 (2:1.1.4-1) ...\n",
            "Selecting previously unselected package x11-utils.\n",
            "Preparing to unpack .../x11-utils_7.7+3build1_amd64.deb ...\n",
            "Unpacking x11-utils (7.7+3build1) ...\n",
            "Selecting previously unselected package xvfb.\n",
            "Preparing to unpack .../xvfb_2%3a1.19.6-1ubuntu4.8_amd64.deb ...\n",
            "Unpacking xvfb (2:1.19.6-1ubuntu4.8) ...\n",
            "Setting up xvfb (2:1.19.6-1ubuntu4.8) ...\n",
            "Setting up libxxf86dga1:amd64 (2:1.1.4-1) ...\n",
            "Setting up x11-utils (7.7+3build1) ...\n",
            "Processing triggers for man-db (2.8.3-2ubuntu0.1) ...\n",
            "Processing triggers for libc-bin (2.27-3ubuntu1.2) ...\n",
            "/sbin/ldconfig.real: /usr/local/lib/python3.7/dist-packages/ideep4py/lib/libmkldnn.so.0 is not a symbolic link\n",
            "\n",
            "Collecting PyVirtualDisplay==2.0.*\n",
            "  Downloading https://files.pythonhosted.org/packages/ad/05/6568620fed440941b704664b9cfe5f836ad699ac7694745e7787fbdc8063/PyVirtualDisplay-2.0-py2.py3-none-any.whl\n",
            "Requirement already satisfied: PyOpenGL==3.1.* in /usr/local/lib/python3.7/dist-packages (3.1.5)\n",
            "Collecting PyOpenGL-accelerate==3.1.*\n",
            "\u001b[?25l  Downloading https://files.pythonhosted.org/packages/a2/3c/f42a62b7784c04b20f8b88d6c8ad04f4f20b0767b721102418aad94d8389/PyOpenGL-accelerate-3.1.5.tar.gz (538kB)\n",
            "\u001b[K     |████████████████████████████████| 542kB 27.0MB/s \n",
            "\u001b[?25hRequirement already satisfied: gym[box2d]==0.17.* in /usr/local/lib/python3.7/dist-packages (0.17.3)\n",
            "Collecting EasyProcess\n",
            "  Downloading https://files.pythonhosted.org/packages/48/3c/75573613641c90c6d094059ac28adb748560d99bd27ee6f80cce398f404e/EasyProcess-0.3-py2.py3-none-any.whl\n",
            "Requirement already satisfied: pyglet<=1.5.0,>=1.4.0 in /usr/local/lib/python3.7/dist-packages (from gym[box2d]==0.17.*) (1.5.0)\n",
            "Requirement already satisfied: scipy in /usr/local/lib/python3.7/dist-packages (from gym[box2d]==0.17.*) (1.4.1)\n",
            "Requirement already satisfied: numpy>=1.10.4 in /usr/local/lib/python3.7/dist-packages (from gym[box2d]==0.17.*) (1.19.5)\n",
            "Requirement already satisfied: cloudpickle<1.7.0,>=1.2.0 in /usr/local/lib/python3.7/dist-packages (from gym[box2d]==0.17.*) (1.3.0)\n",
            "Collecting box2d-py~=2.3.5; extra == \"box2d\"\n",
            "\u001b[?25l  Downloading https://files.pythonhosted.org/packages/87/34/da5393985c3ff9a76351df6127c275dcb5749ae0abbe8d5210f06d97405d/box2d_py-2.3.8-cp37-cp37m-manylinux1_x86_64.whl (448kB)\n",
            "\u001b[K     |████████████████████████████████| 450kB 29.9MB/s \n",
            "\u001b[?25hRequirement already satisfied: future in /usr/local/lib/python3.7/dist-packages (from pyglet<=1.5.0,>=1.4.0->gym[box2d]==0.17.*) (0.16.0)\n",
            "Building wheels for collected packages: PyOpenGL-accelerate\n",
            "  Building wheel for PyOpenGL-accelerate (setup.py) ... \u001b[?25l\u001b[?25hdone\n",
            "  Created wheel for PyOpenGL-accelerate: filename=PyOpenGL_accelerate-3.1.5-cp37-cp37m-linux_x86_64.whl size=1599189 sha256=a4292fd286f81d96776549541045ee830dedc212d9100d23a94207e90f43839a\n",
            "  Stored in directory: /root/.cache/pip/wheels/bd/21/77/99670ceca25fddb3c2b60a7ae44644b8253d1006e8ec417bcc\n",
            "Successfully built PyOpenGL-accelerate\n",
            "Installing collected packages: EasyProcess, PyVirtualDisplay, PyOpenGL-accelerate, box2d-py\n",
            "Successfully installed EasyProcess-0.3 PyOpenGL-accelerate-3.1.5 PyVirtualDisplay-2.0 box2d-py-2.3.8\n",
            "Requirement already satisfied: pyglet in /usr/local/lib/python3.7/dist-packages (1.5.0)\n",
            "Requirement already satisfied: future in /usr/local/lib/python3.7/dist-packages (from pyglet) (0.16.0)\n"
          ],
          "name": "stdout"
        }
      ]
    },
    {
      "cell_type": "code",
      "metadata": {
        "colab": {
          "base_uri": "https://localhost:8080/"
        },
        "id": "xmLE49gSSLz7",
        "outputId": "ebc0774f-bade-43ea-c3ee-f0a1a8ac3c61"
      },
      "source": [
        "from google.colab import drive\n",
        "import sys\n",
        "drive.mount('/content/drive')\n",
        "sys.path.insert(0,'/content/drive/MyDrive/Colab Notebooks')\n",
        "\n",
        "import world\n",
        "from world import World"
      ],
      "execution_count": 3,
      "outputs": [
        {
          "output_type": "stream",
          "text": [
            "Drive already mounted at /content/drive; to attempt to forcibly remount, call drive.mount(\"/content/drive\", force_remount=True).\n"
          ],
          "name": "stdout"
        }
      ]
    },
    {
      "cell_type": "code",
      "metadata": {
        "id": "SWZK6DCLHX1l"
      },
      "source": [
        "import gym\n",
        "import numpy as np\n",
        "import base64\n",
        "import io\n",
        "import IPython"
      ],
      "execution_count": 4,
      "outputs": []
    },
    {
      "cell_type": "code",
      "metadata": {
        "colab": {
          "base_uri": "https://localhost:8080/",
          "height": 282
        },
        "id": "telInc3fzYp7",
        "outputId": "90bbb425-1c2c-4ca7-84d7-7bdc2979cb81"
      },
      "source": [
        "import random\n",
        "\n",
        "#Map information\n",
        "grid = [8, 5]\n",
        "dirt = [[0, 0.5, 0.8, 0.1, 0.1],\n",
        "        [0.1, 0, 0.5, 0.5, 0.5],\n",
        "        [0.3, 0.5, 0.4, 0.3, 0.2],\n",
        "        [0.3, 0.1, 0.7, 0.8, 0.2],\n",
        "        [0, 0, 0.2, 0.8, 0.3],\n",
        "        [0, 0, 0, 0.5, 0.1],\n",
        "        [0, 0, 0, 0.5, 0.1],\n",
        "        [0, 0, 0, 0.2, 0]]\n",
        "moves = 1000\n",
        "pos = [6, 0]\n",
        "\n",
        "# Random setting\n",
        "seed = 1  \n",
        "random.seed(seed)\n",
        "\n",
        "\n",
        "#Env load\n",
        "env = World(pos, moves, grid, dirt)\n",
        "obs = env.reset()\n",
        "env.render()"
      ],
      "execution_count": 17,
      "outputs": [
        {
          "output_type": "display_data",
          "data": {
            "image/png": "[encoded data removed]",
            "text/plain": [
              "<Figure size 432x288 with 1 Axes>"
            ]
          },
          "metadata": {
            "tags": [],
            "needs_background": "light"
          }
        },
        {
          "output_type": "display_data",
          "data": {
            "text/plain": [
              "<Figure size 432x288 with 0 Axes>"
            ]
          },
          "metadata": {
            "tags": []
          }
        }
      ]
    },
    {
      "cell_type": "code",
      "metadata": {
        "id": "WWGxRlo4zYp7"
      },
      "source": [
        "def get_action_value(env, state_values, position, action, gamma):\n",
        "    env.reset()\n",
        "    env.position = position\n",
        "    actions = env._action_space()\n",
        "    obs, r, d, info  = env.step(actions[action])\n",
        "    new_position = env.position\n",
        "    return r + gamma * state_values[new_position[0], new_position[1]]"
      ],
      "execution_count": 6,
      "outputs": []
    },
    {
      "cell_type": "code",
      "metadata": {
        "id": "RcIaTax_zYp8"
      },
      "source": [
        "def init_policy(env):\n",
        "    policy = np.zeros((env.grid_size[0], env.grid_size[1], len(env._action_space())))\n",
        "    for i in range(env.grid_size[0]):\n",
        "        for j in range(env.grid_size[1]):\n",
        "            actions = env._action_space()\n",
        "            for i_action in range(len(actions)):\n",
        "                policy[i][j][i_action] = 0\n",
        "    return policy\n",
        "\n",
        "def best_action(policy, i , j): \n",
        "    actions = policy[i][j]\n",
        "    sort_l = np.sort(actions)\n",
        "    first, = np.where(actions == sort_l[-1])\n",
        "    second, = np.where(actions == sort_l[-2])\n",
        "    return first[0], second[0]"
      ],
      "execution_count": 7,
      "outputs": []
    },
    {
      "cell_type": "code",
      "metadata": {
        "id": "5WGL6y1JzYp8"
      },
      "source": [
        "def policy_eval(env, policy, gamma, theta=0.00001):\n",
        "    num_iter = 100  # maximum iterations, excluding initialization\n",
        "    # initialize V(s)\n",
        "    V = np.zeros((env.grid_size[0], env.grid_size[1]))\n",
        "    for i in range(num_iter):\n",
        "        delta = 0\n",
        "        # Compute new state values using the functions defined above.\n",
        "        new_V = V.copy()\n",
        "        for i in range(env.grid_size[0]):\n",
        "            for j in range(env.grid_size[1]):\n",
        "\n",
        "                action_policy,_ = best_action(policy, i ,j)\n",
        "                new_V[i, j] = get_action_value(env, V, [i, j], action_policy, gamma)\n",
        "        delta = max(delta, abs(new_V[i, j] - V[i, j]))         \n",
        "        V = new_V\n",
        "        if delta < theta:\n",
        "            break\n",
        "    return V"
      ],
      "execution_count": 8,
      "outputs": []
    },
    {
      "cell_type": "code",
      "metadata": {
        "id": "9d8INhr0zYp9"
      },
      "source": [
        "def policy_improvement(env, policy_eval_fn=policy_eval, gamma=0.9):\n",
        "    num_iter = 100  # maximum iterations, excluding initialization\n",
        "    policy = init_policy(env)\n",
        "    for t in range(num_iter):\n",
        "      V = policy_eval_fn(env, policy, gamma)\n",
        "      # Will be set to false if we make any changes to the policy\n",
        "      policy_stable = True\n",
        "      # For each state...\n",
        "      for i in range(env.grid_size[0]):\n",
        "        for j in range(env.grid_size[1]):\n",
        "          # The best action we would take under the current policy\n",
        "          chosen_a,_ = best_action(policy, i ,j)\n",
        "\n",
        "          actions = env._action_space()\n",
        "          A = np.zeros(len(actions))\n",
        "          for action_i, action in enumerate(actions):\n",
        "              v = get_action_value(env, V, [i, j], action_i, gamma)\n",
        "              A[action_i] = v\n",
        "\n",
        "          sort_l = np.sort(A)\n",
        "          first, = np.where(A == sort_l[-1])\n",
        "          second, = np.where(A == sort_l[-2])\n",
        "\n",
        "          #best_a = np.argmax(A)\n",
        "\n",
        "          # Update the policy\n",
        "          if chosen_a != first[0]:\n",
        "              policy_stable = False\n",
        "          for action_i in range(len(actions)):\n",
        "            if action_i == first[0]:\n",
        "              policy[i][j][action_i] = 0.7\n",
        "            elif action_i == second[0]:\n",
        "              policy[i][j][action_i] = 0.3\n",
        "            else:\n",
        "              policy[i][j][action_i] = 0\n",
        "      # If the policy is stable we've found an optimal policy. Return it\n",
        "      if policy_stable:\n",
        "          return policy, V\n",
        "      print(\"iter %4i \" % (t + 1))\n",
        "    return policy, V"
      ],
      "execution_count": 9,
      "outputs": []
    },
    {
      "cell_type": "code",
      "metadata": {
        "tags": [],
        "colab": {
          "base_uri": "https://localhost:8080/"
        },
        "id": "gq9IV5nhzYp9",
        "outputId": "0b27671c-405d-4b2f-dbd4-c2f770d1091e"
      },
      "source": [
        "import pprint\n",
        "env.reset()\n",
        "policy, v = policy_improvement(env)"
      ],
      "execution_count": 10,
      "outputs": [
        {
          "output_type": "stream",
          "text": [
            "iter    1 \n",
            "iter    2 \n",
            "iter    3 \n",
            "iter    4 \n",
            "iter    5 \n",
            "iter    6 \n"
          ],
          "name": "stdout"
        }
      ]
    },
    {
      "cell_type": "code",
      "metadata": {
        "id": "6Jl0kMicRuVr"
      },
      "source": [
        "def opt_policy(env, policy):\n",
        "    policy_max = np.max(policy, axis=2)\n",
        "    # print(policy_max)\n",
        "    y = np.linspace(env.grid_size[0] - 1, 0, env.grid_size[0]) + 0.5\n",
        "    x = np.linspace(0, env.grid_size[1] - 1, env.grid_size[1]) + 0.5\n",
        "    X, Y = np.meshgrid(x, y)\n",
        "    zeros = np.zeros((env.grid_size))\n",
        "    \n",
        "    fig = plt.figure(figsize=(12,8))\n",
        "    ax = plt.axes()\n",
        "    \n",
        "    for i_action, action in enumerate(env._action_space()):\n",
        "        policy_star = np.zeros((env.grid_size[0], env.grid_size[1]))\n",
        "        for i in reversed(range(env.grid_size[0])):\n",
        "            for j in reversed(range(env.grid_size[1])):\n",
        "                # if policy[i, j, i_action] == policy_max[i, j]:\n",
        "                if policy[i, j, i_action] != 0:\n",
        "                    policy_star[i, j] = 0.4\n",
        "\n",
        "        #Plot results\n",
        "        if action == \"U\":\n",
        "            # Vectors point in positive Y-direction\n",
        "            plt.quiver(X, Y, zeros, policy_star, scale=1, units='xy')\n",
        "        elif action == \"L\":\n",
        "            # Vectors point in negative X-direction\n",
        "            plt.quiver(X, Y, -policy_star, zeros, scale=1, units='xy')\n",
        "        elif action == \"D\":\n",
        "            # Vectors point in negative Y-direction\n",
        "            plt.quiver(X, Y, zeros, -policy_star, scale=1, units='xy')\n",
        "        elif action == \"R\":\n",
        "            # Vectors point in positive X-direction\n",
        "            plt.quiver(X, Y, policy_star, zeros, scale=1, units='xy')\n",
        "        \n",
        "    plt.xlim([0, env.grid_size[1]])\n",
        "    plt.ylim([0, env.grid_size[0]])\n",
        "    ax.set_yticklabels([])\n",
        "    ax.set_xticklabels([])\n",
        "    plt.grid()\n",
        "    plt.show()"
      ],
      "execution_count": 31,
      "outputs": []
    },
    {
      "cell_type": "code",
      "metadata": {
        "colab": {
          "base_uri": "https://localhost:8080/",
          "height": 469
        },
        "id": "AeVUNAOYzYp-",
        "outputId": "e1e6395f-a672-4767-b4cc-6c146368696d"
      },
      "source": [
        "import matplotlib.pyplot as plt\n",
        "opt_policy(env, policy)"
      ],
      "execution_count": 32,
      "outputs": [
        {
          "output_type": "display_data",
          "data": {
            "image/png": "[encoded data removed]",
            "text/plain": [
              "<Figure size 864x576 with 1 Axes>"
            ]
          },
          "metadata": {
            "tags": [],
            "needs_background": "light"
          }
        }
      ]
    },
    {
      "cell_type": "code",
      "metadata": {
        "id": "OUp3aKb8Kk3E"
      },
      "source": [
        "\n",
        "#initital parametters\n",
        "reward = []\n",
        "for _ in range(1000):\n",
        "    position = env.position\n",
        "    first, second = best_action(policy, position[0], position[1])\n",
        "    action = first\n",
        "    if np.random.uniform(0,1) < 0.3:\n",
        "      action = second\n",
        "    actions = env._action_space()\n",
        "    obs, r, d, info  = env.step(actions[action])    \n",
        "    reward.append(r)\n",
        "    # env.render()\n",
        "    if d:\n",
        "        env.reset()"
      ],
      "execution_count": 28,
      "outputs": []
    },
    {
      "cell_type": "code",
      "metadata": {
        "colab": {
          "base_uri": "https://localhost:8080/"
        },
        "id": "tw72TJL-0dvI",
        "outputId": "0af64404-f22b-4fb6-bdba-de747040da6d"
      },
      "source": [
        "print(\"average reward: \", np.mean(reward))"
      ],
      "execution_count": 20,
      "outputs": [
        {
          "output_type": "stream",
          "text": [
            "average reward:  0.0036000000000000003\n"
          ],
          "name": "stdout"
        }
      ]
    }
  ]
}